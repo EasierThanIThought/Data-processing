{
 "cells": [
  {
   "cell_type": "markdown",
   "id": "8fb930d0-d923-4eb1-b82e-6ab228de5be7",
   "metadata": {},
   "source": [
    "# Przygotowanie danych do pliku logów ze sklepu internetowego\n",
    "\n"
   ]
  },
  {
   "cell_type": "code",
   "execution_count": 1,
   "id": "9c830214-11d7-4cea-ad0c-28d3606c6c02",
   "metadata": {},
   "outputs": [],
   "source": [
    "import pandas as pd\n",
    "import numpy as np"
   ]
  },
  {
   "cell_type": "markdown",
   "id": "c91a3265-56b7-42c7-ad2d-c17c823dacf2",
   "metadata": {},
   "source": [
    "### 1. Data Import\n",
    "- Odczyt danych z pliku"
   ]
  },
  {
   "cell_type": "code",
   "execution_count": 2,
   "id": "aaab9a87-36d7-4e92-8275-580f1793895c",
   "metadata": {},
   "outputs": [],
   "source": [
    "data = pd.read_excel(\"logTest.xlsx\")"
   ]
  },
  {
   "cell_type": "markdown",
   "id": "1d3bc835-b0ff-4dfe-a192-c56d0caf8d37",
   "metadata": {},
   "source": [
    "### 2. Weryfikacja zgodności z określonymi typami danych i ograniczeniami\n",
    "- Weryfikacja 'sessionNo'"
   ]
  },
  {
   "cell_type": "code",
   "execution_count": 3,
   "id": "ea741a84-c5c9-4f6b-a082-d43b7a6679fb",
   "metadata": {},
   "outputs": [
    {
     "name": "stdout",
     "output_type": "stream",
     "text": [
      "All values are natural numbers\n"
     ]
    }
   ],
   "source": [
    "if all(isinstance(value, int) and value >= 0 for value in data['sessionNo']):\n",
    "    print(\"All values are natural numbers\")\n",
    "else:\n",
    "    print(\"Error: not natural numbers\")"
   ]
  },
  {
   "cell_type": "markdown",
   "id": "1e8d776d-05af-43bf-9dba-9e36cb19b53c",
   "metadata": {},
   "source": [
    "- Weryfikacja 'startHour'"
   ]
  },
  {
   "cell_type": "code",
   "execution_count": 4,
   "id": "3dd1b0b6-bac0-4beb-b0a3-f140352b58a4",
   "metadata": {},
   "outputs": [
    {
     "name": "stdout",
     "output_type": "stream",
     "text": [
      "All values are natural numbers between 0 and 23\n"
     ]
    }
   ],
   "source": [
    "if all(isinstance(value, int) and 0 <= value <= 23 for value in data['startHour']):\n",
    "    print(\"All values are natural numbers between 0 and 23\")\n",
    "else:\n",
    "    print(\"Error\")"
   ]
  },
  {
   "cell_type": "markdown",
   "id": "b796e820-f34c-44a5-821a-bb1f013644e2",
   "metadata": {},
   "source": [
    "- Weryfikacja 'startWeekday'"
   ]
  },
  {
   "cell_type": "code",
   "execution_count": 5,
   "id": "b7ed8772-dcb6-4427-9802-215243403882",
   "metadata": {},
   "outputs": [
    {
     "name": "stdout",
     "output_type": "stream",
     "text": [
      "All values are from the set {1, 2, 3, 4, 5, 6, 7}\n"
     ]
    }
   ],
   "source": [
    "if data['startWeekday'].isnull().any():\n",
    "  print(\"Error: missing values\")\n",
    "else:\n",
    "    data['startWeekday'] = pd.to_numeric(data['startWeekday'], errors='coerce')\n",
    "    valid_weekdays = set({1, 2, 3, 4, 5, 6, 7})\n",
    "    if (data['startWeekday'].isin(valid_weekdays)).all():\n",
    "        print(\"All values are from the set {1, 2, 3, 4, 5, 6, 7}\")\n",
    "    else:\n",
    "        print(\"Error: invalid values\")"
   ]
  },
  {
   "cell_type": "markdown",
   "id": "317e886e-3790-4f05-92ae-b56c5265b3cc",
   "metadata": {},
   "source": [
    "- Weryfikacja 'duration'"
   ]
  },
  {
   "cell_type": "code",
   "execution_count": 6,
   "id": "c7cd0f20-b770-4ec8-8f8a-9f833d7ac99d",
   "metadata": {},
   "outputs": [
    {
     "name": "stdout",
     "output_type": "stream",
     "text": [
      "All values are float numbers\n"
     ]
    }
   ],
   "source": [
    "if all(isinstance(value, float) and value >= 0 for value in data['duration']):\n",
    "    print(\"All values are float numbers\")\n",
    "else:\n",
    "    print(\"Error: not float numbers\")"
   ]
  },
  {
   "cell_type": "markdown",
   "id": "fbfa5b70-5bce-4c1f-8378-51b5cdfe41e8",
   "metadata": {},
   "source": [
    "- Weryfikacja 'cCount'"
   ]
  },
  {
   "cell_type": "code",
   "execution_count": 7,
   "id": "e8db551b-8555-426b-9a69-b06fcfc70fac",
   "metadata": {},
   "outputs": [
    {
     "name": "stdout",
     "output_type": "stream",
     "text": [
      "All values are natural numbers\n"
     ]
    }
   ],
   "source": [
    "if all(isinstance(value, int) and value >= 0 for value in data['cCount']):\n",
    "    print(\"All values are natural numbers\")\n",
    "else:\n",
    "    print(\"Error: not natural numbers\")"
   ]
  },
  {
   "cell_type": "markdown",
   "id": "177553f3-d40f-4e14-9fc1-86116bff2545",
   "metadata": {},
   "source": [
    "- Weryfikacja 'bCount'"
   ]
  },
  {
   "cell_type": "code",
   "execution_count": 8,
   "id": "17afc2cf-1e7e-4e43-bffc-01d9e8057439",
   "metadata": {},
   "outputs": [
    {
     "name": "stdout",
     "output_type": "stream",
     "text": [
      "All values are natural numbers\n"
     ]
    }
   ],
   "source": [
    "if all(isinstance(value, int) and value >= 0 for value in data['bCount']):\n",
    "    print(\"All values are natural numbers\")\n",
    "else:\n",
    "    print(\"Error: not natural numbers\")"
   ]
  },
  {
   "cell_type": "markdown",
   "id": "e989f33b-ea10-49e0-b0af-b7cdd821e84f",
   "metadata": {},
   "source": [
    "- Weryfikacja 'order'"
   ]
  },
  {
   "cell_type": "code",
   "execution_count": 9,
   "id": "49583a04-08c2-467f-9ec8-f6d98a38914a",
   "metadata": {},
   "outputs": [
    {
     "name": "stdout",
     "output_type": "stream",
     "text": [
      "All values are characters\n"
     ]
    }
   ],
   "source": [
    "if all(isinstance(value, str) for value in data['order']):\n",
    "    print(\"All values are characters\")\n",
    "else:\n",
    "    print(\"Error: not characters\")"
   ]
  },
  {
   "cell_type": "markdown",
   "id": "20fac257-e743-4856-ba9f-860ae2f5e684",
   "metadata": {},
   "source": [
    "### 3. Korekta i uzupełnianie brakujących danych\n",
    "- Uzupełnianie danych 'cMinPrice' 'cMaxPrice' 'cSumPrice' 'bMinPrice' 'bMaxPrice' 'bSumPrice'\n",
    "\n",
    "W przypadku gdy liczba produktów, które zostały przeglądnięte przez kupującego = 0, wypełniamy dane cenowe zerami"
   ]
  },
  {
   "cell_type": "code",
   "execution_count": 10,
   "id": "288d2303-5a91-48d9-b931-169f869d8969",
   "metadata": {},
   "outputs": [],
   "source": [
    "data_filled = data.copy()\n",
    "def zero_or_current(row, count_column_name, column_name):\n",
    "    if (row[count_column_name] == 0) or (row[count_column_name] == 1 and row[column_name] == '?'):\n",
    "        return 0\n",
    "    else:\n",
    "        return float(row[column_name])\n",
    "\n",
    "\n",
    "data_filled['cMinPrice'] = data_filled.apply(lambda row: zero_or_current(row, 'cCount', 'cMinPrice'), axis=1)\n",
    "data_filled['cMaxPrice'] = data_filled.apply(lambda row: zero_or_current(row, 'cCount', 'cMaxPrice'), axis=1)\n",
    "data_filled['cSumPrice'] = data_filled.apply(lambda row: zero_or_current(row, 'cCount', 'cSumPrice'), axis=1)\n",
    "\n",
    "data_filled['bMinPrice'] = data_filled.apply(lambda row: zero_or_current(row, 'bCount', 'bMinPrice'), axis=1)\n",
    "data_filled['bMaxPrice'] = data_filled.apply(lambda row: zero_or_current(row, 'bCount', 'bMaxPrice'), axis=1)\n",
    "data_filled['bSumPrice'] = data_filled.apply(lambda row: zero_or_current(row, 'bCount', 'bSumPrice'), axis=1)\n",
    "\n",
    "data = data_filled"
   ]
  },
  {
   "cell_type": "markdown",
   "id": "ea95b950-0e21-4773-bb46-54891878f4a9",
   "metadata": {},
   "source": [
    "- Korekcja błędnych danych 'cSumPrice' 'bSumPrice'\n",
    "\n",
    "Suma wszystkich produktów, które klient przeglądał, musi być większa lub równa \n",
    "minimalnej cenie pomnożonej przez ilość produktów minus jeden, powiększonej o maksymalną cenę produktu. \n",
    "Suma produktów może również być równa tej wartości"
   ]
  },
  {
   "cell_type": "code",
   "execution_count": 11,
   "id": "b2c24c62-573c-4a62-8199-5f6d8100da08",
   "metadata": {},
   "outputs": [],
   "source": [
    "def max_or_sum(row, count_column_name, column_sum, column_min, column_max):\n",
    "    if(row[count_column_name] == 1):\n",
    "        return float(row[column_max])\n",
    "    elif ((row[count_column_name] > 1) & (float(row[column_sum]) < float(row[column_min])*(row[count_column_name]-1)+float(row[column_max]))): \n",
    "        return float(row[column_min])*(row[count_column_name]-1)+float(row[column_max])\n",
    "    else:\n",
    "        return float(row[column_sum])\n",
    "\n",
    "\n",
    "data_filled['cSumPrice'] = data.apply(lambda row: max_or_sum(row, 'cCount', 'cSumPrice', 'cMinPrice', 'cMaxPrice'), axis=1)\n",
    "\n",
    "data_filled['bSumPrice'] = data.apply(lambda row: max_or_sum(row, 'bCount', 'bSumPrice', 'bMinPrice', 'bMaxPrice'), axis=1)\n",
    "\n",
    "data = data_filled"
   ]
  },
  {
   "cell_type": "markdown",
   "id": "f20c9815-9ee6-4a6b-8700-77348a263157",
   "metadata": {},
   "source": [
    "- Uzupełnianie danych 'bStep'"
   ]
  },
  {
   "cell_type": "code",
   "execution_count": 12,
   "id": "dfcc4c84-dd86-477e-9109-c5cc4c8797ac",
   "metadata": {},
   "outputs": [],
   "source": [
    "def update_bStep(data):\n",
    "    data_grouped = data.groupby('sessionNo')\n",
    "    \n",
    "    for session_no, group_data in data_grouped:\n",
    "        \n",
    "        if group_data['bStep'].eq(\"?\").all():\n",
    "            for index, row in group_data.iterrows():\n",
    "                data.at[index, 'bStep'] = 1\n",
    "                \n",
    "        else:\n",
    "            new_val_bStep = '?'\n",
    "            for index, row in group_data.iterrows():\n",
    "                if data.at[index, 'bStep'] != '?':\n",
    "                    new_val_bStep = data.at[index, 'bStep']\n",
    "                elif data.at[index, 'bStep'] == '?' and new_val_bStep != '?':\n",
    "                    data.at[index, 'bStep'] = new_val_bStep\n",
    "                else:\n",
    "                    while new_val_bStep == '?':\n",
    "                        for index2, row2 in group_data.iterrows():\n",
    "                            new_val_bStep = data.at[index2, 'bStep']\n",
    "                            if new_val_bStep != 0 and new_val_bStep != '?':\n",
    "                                break\n",
    "                    data.at[index, 'bStep'] = new_val_bStep\n",
    "        \n",
    "    return data\n",
    "\n",
    "\n",
    "data_filled = update_bStep(data.copy()) \n",
    "\n",
    "data_filled['bStep'][0:20]\n",
    "data = data_filled"
   ]
  },
  {
   "cell_type": "markdown",
   "id": "e4636ae8-6f40-45d1-a848-024ba064a0e6",
   "metadata": {},
   "source": [
    "- Uzupełnianie danych 'onlineStatus'\n",
    "\n",
    "\n",
    "Ponieważ dla danej kolumny istnieją dwie opcje, ale wśród znanych danych występuje tylko opcja \"yes\", można założyć, że brakujące dane odpowiadają za przeciwną kategorię, czyli \"no\""
   ]
  },
  {
   "cell_type": "code",
   "execution_count": 13,
   "id": "aca5d604-96e6-4d1b-8a4e-1bca561c35df",
   "metadata": {},
   "outputs": [
    {
     "data": {
      "text/plain": [
       "0      n\n",
       "1      y\n",
       "2      y\n",
       "3      y\n",
       "4      y\n",
       "      ..\n",
       "713    y\n",
       "714    y\n",
       "715    y\n",
       "716    y\n",
       "717    y\n",
       "Name: onlineStatus, Length: 718, dtype: object"
      ]
     },
     "execution_count": 13,
     "metadata": {},
     "output_type": "execute_result"
    }
   ],
   "source": [
    "def update_onlineStatus(data):\n",
    "    data['onlineStatus'] = data['onlineStatus'].replace('?', 'n')\n",
    "    return data\n",
    "\n",
    "data = update_onlineStatus(data_filled)\n",
    "data['onlineStatus']"
   ]
  },
  {
   "cell_type": "markdown",
   "id": "113fde9d-3912-46ab-a0b5-a9624b976252",
   "metadata": {},
   "source": [
    "- Uzupełnianie danych 'availability'"
   ]
  },
  {
   "cell_type": "code",
   "execution_count": 14,
   "id": "12e15f40-1bf5-468d-bfca-d2d0c6e7712c",
   "metadata": {},
   "outputs": [],
   "source": [
    "def update_availability(data):\n",
    "    data_grouped = data.groupby('sessionNo')\n",
    "    \n",
    "    for session_no, group_data in data_grouped:\n",
    "        \n",
    "        if group_data['availability'].eq(\"?\").all():\n",
    "            for index, row in group_data.iterrows():\n",
    "                data.at[index, 'availability'] = 'completely not orderable'\n",
    "                \n",
    "        else:\n",
    "            new_val_avail = '?'\n",
    "            for index, row in group_data.iterrows():\n",
    "                if data.at[index, 'availability'] != '?':\n",
    "                    new_val_avail = data.at[index, 'availability']\n",
    "                elif data.at[index, 'availability'] == '?' and new_val_avail != '?':\n",
    "                    data.at[index, 'availability'] = new_val_avail\n",
    "                else:\n",
    "                    while new_val_avail == '?':\n",
    "                        for index2, row2 in group_data.iterrows():\n",
    "                            new_val_avail = data.at[index2, 'availability']\n",
    "                            if new_val_avail != '?':\n",
    "                                break\n",
    "                    data.at[index, 'availability'] = new_val_avail\n",
    "        \n",
    "    return data\n",
    "\n",
    "\n",
    "data_filled = data.copy()\n",
    "data_filled = update_availability(data.copy()) \n",
    "\n",
    "data_filled['availability'][0:20]\n",
    "data = data_filled"
   ]
  },
  {
   "cell_type": "markdown",
   "id": "a4438f02-d473-4a05-870d-954013b4e028",
   "metadata": {},
   "source": [
    "- Uzupełnianie danych 'customerNo'"
   ]
  },
  {
   "cell_type": "code",
   "execution_count": 15,
   "id": "4a18dbb5-c46b-4d4b-a470-30fbfe129c8a",
   "metadata": {},
   "outputs": [],
   "source": [
    "def update_customerNo(data):\n",
    "\n",
    "    grouped = data.groupby('sessionNo')\n",
    "    used_values = set()\n",
    "\n",
    "    for session_no, group_data in grouped:\n",
    "        used_values.update(group_data['customerNo'].unique())\n",
    "        \n",
    "    used_values = {v for v in used_values if v != \"?\" and isinstance(v, int)}\n",
    "    for session_no, group_data in grouped:\n",
    "        if \"?\" in group_data['customerNo'].values:\n",
    "            non_question_values = group_data[group_data['customerNo'] != \"?\"]['customerNo']\n",
    "            if not non_question_values.empty:\n",
    "                replacement_value = non_question_values.iloc[0]\n",
    "            else:\n",
    "                replacement_value = None\n",
    "                for val in range(1, len(data)):\n",
    "                    if val not in used_values:\n",
    "                        replacement_value = val\n",
    "                        break\n",
    "                \n",
    "            data.loc[group_data.index[group_data['customerNo'] == \"?\"], 'customerNo'] = replacement_value\n",
    "            used_values.add(replacement_value)\n",
    "\n",
    "    return data\n",
    "\n",
    "data_filled = data.copy()\n",
    "data_filled = update_customerNo(data.copy())\n",
    "data = data_filled"
   ]
  },
  {
   "cell_type": "markdown",
   "id": "e6a5a17e-a666-4490-a138-31e36f1cbbf2",
   "metadata": {},
   "source": [
    "Brakujące dane w kolumnach 'maxVal' 'accountLifetime' są wypełniane na podstawie wartości średniej"
   ]
  },
  {
   "cell_type": "markdown",
   "id": "693fc35c-b4ac-48ab-ba9a-7713cbda5718",
   "metadata": {},
   "source": [
    "- Funkcja uzupełniania danych"
   ]
  },
  {
   "cell_type": "code",
   "execution_count": 16,
   "id": "4c2c8084-752d-4a5d-a8ee-787772ef8f6a",
   "metadata": {},
   "outputs": [],
   "source": [
    "from sklearn.impute import SimpleImputer\n",
    "pd.set_option('future.no_silent_downcasting', True)\n",
    "\n",
    "def impute_and_convert_to_int(data, column_name):\n",
    "  data_filled = data.copy()\n",
    "  data_filled[column_name] = data_filled[column_name].replace('?', np.nan)\n",
    "    \n",
    "  imputer = SimpleImputer(missing_values=np.nan, strategy='mean')\n",
    "    \n",
    "  data_filled[column_name] = imputer.fit_transform(data_filled[[column_name]])\n",
    "  data_filled[column_name] = data_filled[column_name].astype(int)\n",
    "    \n",
    "  return data_filled"
   ]
  },
  {
   "cell_type": "markdown",
   "id": "f9bae0d7-9c20-4245-8728-4c820bad50b8",
   "metadata": {},
   "source": [
    "- Uzupełnianie danych 'maxVal'"
   ]
  },
  {
   "cell_type": "code",
   "execution_count": 17,
   "id": "556aed2c-447a-4e25-8c16-3413307bc499",
   "metadata": {},
   "outputs": [],
   "source": [
    "data = impute_and_convert_to_int(data.copy(), 'maxVal')"
   ]
  },
  {
   "cell_type": "markdown",
   "id": "0c459070-1163-438b-95b6-99b700027688",
   "metadata": {},
   "source": [
    "- Uzupełnianie danych 'customerScore'"
   ]
  },
  {
   "cell_type": "code",
   "execution_count": 18,
   "id": "64ad1f14-8c02-493a-bf8b-1be9371388a6",
   "metadata": {},
   "outputs": [],
   "source": [
    "data = impute_and_convert_to_int(data.copy(), 'customerScore')"
   ]
  },
  {
   "cell_type": "markdown",
   "id": "79cfee1f-164e-4198-a9ca-054d3a9e9667",
   "metadata": {},
   "source": [
    "- Uzupełnianie danych 'accountLifetime'"
   ]
  },
  {
   "cell_type": "code",
   "execution_count": 19,
   "id": "4ed70ad8-c825-48c7-9860-abeed0c0973d",
   "metadata": {},
   "outputs": [],
   "source": [
    "data = impute_and_convert_to_int(data.copy(), 'accountLifetime')"
   ]
  },
  {
   "cell_type": "markdown",
   "id": "e6bfb773-7931-4e3e-8ce6-1aa7ced953af",
   "metadata": {},
   "source": [
    "- Uzupełnianie danych 'payments'"
   ]
  },
  {
   "cell_type": "code",
   "execution_count": 20,
   "id": "88979d10-f581-4af3-82ca-ce383e15ded6",
   "metadata": {},
   "outputs": [],
   "source": [
    "data = impute_and_convert_to_int(data.copy(), 'payments')"
   ]
  },
  {
   "cell_type": "markdown",
   "id": "bb39aa5b-fdba-4c45-982c-5554a517066b",
   "metadata": {},
   "source": [
    "- Uzupełnianie danych 'age'"
   ]
  },
  {
   "cell_type": "code",
   "execution_count": 21,
   "id": "3fde9e2b-9b28-4413-aa16-7d547e891d18",
   "metadata": {},
   "outputs": [],
   "source": [
    "data = impute_and_convert_to_int(data.copy(), 'age')"
   ]
  },
  {
   "cell_type": "markdown",
   "id": "8e4bec8a-863b-403a-8867-af785aa1aea5",
   "metadata": {},
   "source": [
    "- Uzupełnianie danych 'address'"
   ]
  },
  {
   "cell_type": "code",
   "execution_count": 22,
   "id": "281a6b7c-847d-49fe-b768-c751097d880a",
   "metadata": {},
   "outputs": [],
   "source": [
    "data = impute_and_convert_to_int(data.copy(), 'address')"
   ]
  },
  {
   "cell_type": "markdown",
   "id": "025f9efa-07e4-44f4-8af1-e7a83565c000",
   "metadata": {},
   "source": [
    "- Uzupełnianie danych 'lastOrder'"
   ]
  },
  {
   "cell_type": "code",
   "execution_count": 23,
   "id": "ecc8ca94-e578-43bf-8136-2e261eb551e3",
   "metadata": {},
   "outputs": [],
   "source": [
    "data = impute_and_convert_to_int(data.copy(), 'lastOrder')"
   ]
  },
  {
   "cell_type": "code",
   "execution_count": 24,
   "id": "e288138e-e04d-4dd2-82c7-6ff267ea0edd",
   "metadata": {},
   "outputs": [],
   "source": [
    "data.to_excel(\"logTest.xlsx\", index=False)  "
   ]
  }
 ],
 "metadata": {
  "kernelspec": {
   "display_name": "Python 3 (ipykernel)",
   "language": "python",
   "name": "python3"
  },
  "language_info": {
   "codemirror_mode": {
    "name": "ipython",
    "version": 3
   },
   "file_extension": ".py",
   "mimetype": "text/x-python",
   "name": "python",
   "nbconvert_exporter": "python",
   "pygments_lexer": "ipython3",
   "version": "3.12.2"
  }
 },
 "nbformat": 4,
 "nbformat_minor": 5
}
